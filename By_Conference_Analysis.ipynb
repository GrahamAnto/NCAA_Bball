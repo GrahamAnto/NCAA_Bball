{
 "cells": [
  {
   "cell_type": "code",
   "execution_count": 67,
   "id": "stuffed-means",
   "metadata": {},
   "outputs": [],
   "source": [
    "import pandas as pd\n",
    "import numpy as np\n",
    "import matplotlib.pyplot as plt\n",
    "import seaborn as sns\n",
    "import sklearn\n",
    "from sklearn.preprocessing import OneHotEncoder"
   ]
  },
  {
   "cell_type": "code",
   "execution_count": 61,
   "id": "closed-consent",
   "metadata": {},
   "outputs": [
    {
     "data": {
      "text/html": [
       "<div>\n",
       "<style scoped>\n",
       "    .dataframe tbody tr th:only-of-type {\n",
       "        vertical-align: middle;\n",
       "    }\n",
       "\n",
       "    .dataframe tbody tr th {\n",
       "        vertical-align: top;\n",
       "    }\n",
       "\n",
       "    .dataframe thead th {\n",
       "        text-align: right;\n",
       "    }\n",
       "</style>\n",
       "<table border=\"1\" class=\"dataframe\">\n",
       "  <thead>\n",
       "    <tr style=\"text-align: right;\">\n",
       "      <th></th>\n",
       "      <th>TEAM</th>\n",
       "      <th>CONF</th>\n",
       "      <th>G</th>\n",
       "      <th>W</th>\n",
       "      <th>ADJOE</th>\n",
       "      <th>ADJDE</th>\n",
       "      <th>BARTHAG</th>\n",
       "      <th>EFG_O</th>\n",
       "      <th>EFG_D</th>\n",
       "      <th>TOR</th>\n",
       "      <th>...</th>\n",
       "      <th>FTRD</th>\n",
       "      <th>2P_O</th>\n",
       "      <th>2P_D</th>\n",
       "      <th>3P_O</th>\n",
       "      <th>3P_D</th>\n",
       "      <th>ADJ_T</th>\n",
       "      <th>WAB</th>\n",
       "      <th>POSTSEASON</th>\n",
       "      <th>SEED</th>\n",
       "      <th>YEAR</th>\n",
       "    </tr>\n",
       "  </thead>\n",
       "  <tbody>\n",
       "    <tr>\n",
       "      <th>0</th>\n",
       "      <td>North Carolina</td>\n",
       "      <td>ACC</td>\n",
       "      <td>40</td>\n",
       "      <td>33</td>\n",
       "      <td>123.3</td>\n",
       "      <td>94.9</td>\n",
       "      <td>0.9531</td>\n",
       "      <td>52.6</td>\n",
       "      <td>48.1</td>\n",
       "      <td>15.4</td>\n",
       "      <td>...</td>\n",
       "      <td>30.4</td>\n",
       "      <td>53.9</td>\n",
       "      <td>44.6</td>\n",
       "      <td>32.7</td>\n",
       "      <td>36.2</td>\n",
       "      <td>71.7</td>\n",
       "      <td>8.6</td>\n",
       "      <td>2ND</td>\n",
       "      <td>1.0</td>\n",
       "      <td>2016</td>\n",
       "    </tr>\n",
       "    <tr>\n",
       "      <th>1</th>\n",
       "      <td>Wisconsin</td>\n",
       "      <td>B10</td>\n",
       "      <td>40</td>\n",
       "      <td>36</td>\n",
       "      <td>129.1</td>\n",
       "      <td>93.6</td>\n",
       "      <td>0.9758</td>\n",
       "      <td>54.8</td>\n",
       "      <td>47.7</td>\n",
       "      <td>12.4</td>\n",
       "      <td>...</td>\n",
       "      <td>22.4</td>\n",
       "      <td>54.8</td>\n",
       "      <td>44.7</td>\n",
       "      <td>36.5</td>\n",
       "      <td>37.5</td>\n",
       "      <td>59.3</td>\n",
       "      <td>11.3</td>\n",
       "      <td>2ND</td>\n",
       "      <td>1.0</td>\n",
       "      <td>2015</td>\n",
       "    </tr>\n",
       "    <tr>\n",
       "      <th>2</th>\n",
       "      <td>Michigan</td>\n",
       "      <td>B10</td>\n",
       "      <td>40</td>\n",
       "      <td>33</td>\n",
       "      <td>114.4</td>\n",
       "      <td>90.4</td>\n",
       "      <td>0.9375</td>\n",
       "      <td>53.9</td>\n",
       "      <td>47.7</td>\n",
       "      <td>14.0</td>\n",
       "      <td>...</td>\n",
       "      <td>30.0</td>\n",
       "      <td>54.7</td>\n",
       "      <td>46.8</td>\n",
       "      <td>35.2</td>\n",
       "      <td>33.2</td>\n",
       "      <td>65.9</td>\n",
       "      <td>6.9</td>\n",
       "      <td>2ND</td>\n",
       "      <td>3.0</td>\n",
       "      <td>2018</td>\n",
       "    </tr>\n",
       "    <tr>\n",
       "      <th>3</th>\n",
       "      <td>Texas Tech</td>\n",
       "      <td>B12</td>\n",
       "      <td>38</td>\n",
       "      <td>31</td>\n",
       "      <td>115.2</td>\n",
       "      <td>85.2</td>\n",
       "      <td>0.9696</td>\n",
       "      <td>53.5</td>\n",
       "      <td>43.0</td>\n",
       "      <td>17.7</td>\n",
       "      <td>...</td>\n",
       "      <td>36.6</td>\n",
       "      <td>52.8</td>\n",
       "      <td>41.9</td>\n",
       "      <td>36.5</td>\n",
       "      <td>29.7</td>\n",
       "      <td>67.5</td>\n",
       "      <td>7.0</td>\n",
       "      <td>2ND</td>\n",
       "      <td>3.0</td>\n",
       "      <td>2019</td>\n",
       "    </tr>\n",
       "    <tr>\n",
       "      <th>4</th>\n",
       "      <td>Gonzaga</td>\n",
       "      <td>WCC</td>\n",
       "      <td>39</td>\n",
       "      <td>37</td>\n",
       "      <td>117.8</td>\n",
       "      <td>86.3</td>\n",
       "      <td>0.9728</td>\n",
       "      <td>56.6</td>\n",
       "      <td>41.1</td>\n",
       "      <td>16.2</td>\n",
       "      <td>...</td>\n",
       "      <td>26.9</td>\n",
       "      <td>56.3</td>\n",
       "      <td>40.0</td>\n",
       "      <td>38.2</td>\n",
       "      <td>29.0</td>\n",
       "      <td>71.5</td>\n",
       "      <td>7.7</td>\n",
       "      <td>2ND</td>\n",
       "      <td>1.0</td>\n",
       "      <td>2017</td>\n",
       "    </tr>\n",
       "  </tbody>\n",
       "</table>\n",
       "<p>5 rows × 24 columns</p>\n",
       "</div>"
      ],
      "text/plain": [
       "             TEAM CONF   G   W  ADJOE  ADJDE  BARTHAG  EFG_O  EFG_D   TOR  \\\n",
       "0  North Carolina  ACC  40  33  123.3   94.9   0.9531   52.6   48.1  15.4   \n",
       "1       Wisconsin  B10  40  36  129.1   93.6   0.9758   54.8   47.7  12.4   \n",
       "2        Michigan  B10  40  33  114.4   90.4   0.9375   53.9   47.7  14.0   \n",
       "3      Texas Tech  B12  38  31  115.2   85.2   0.9696   53.5   43.0  17.7   \n",
       "4         Gonzaga  WCC  39  37  117.8   86.3   0.9728   56.6   41.1  16.2   \n",
       "\n",
       "   ...  FTRD  2P_O  2P_D  3P_O  3P_D  ADJ_T   WAB  POSTSEASON  SEED  YEAR  \n",
       "0  ...  30.4  53.9  44.6  32.7  36.2   71.7   8.6         2ND   1.0  2016  \n",
       "1  ...  22.4  54.8  44.7  36.5  37.5   59.3  11.3         2ND   1.0  2015  \n",
       "2  ...  30.0  54.7  46.8  35.2  33.2   65.9   6.9         2ND   3.0  2018  \n",
       "3  ...  36.6  52.8  41.9  36.5  29.7   67.5   7.0         2ND   3.0  2019  \n",
       "4  ...  26.9  56.3  40.0  38.2  29.0   71.5   7.7         2ND   1.0  2017  \n",
       "\n",
       "[5 rows x 24 columns]"
      ]
     },
     "execution_count": 61,
     "metadata": {},
     "output_type": "execute_result"
    }
   ],
   "source": [
    "train_df = pd.read_csv('./archive/cbb.csv')\n",
    "train_df = train_df[train_df['SEED'] < 17]\n",
    "test_df = pd.read_csv('./archive/cbb21.csv')\n",
    "test_df = test_df[test_df['SEED'] < 17]\n",
    "\n",
    "\n",
    "train_df.head()"
   ]
  },
  {
   "cell_type": "markdown",
   "id": "coastal-steal",
   "metadata": {},
   "source": [
    "# To reduce the # of conferences, i select conferences with at least 19 entires in the data set.\n",
    "\n",
    "## this choice is to select big conferences to see if they conferences have any statistics trends or similarities\n",
    "\n",
    "### would have done 20, but Amer is lower due to the splitting of Amer and BE"
   ]
  },
  {
   "cell_type": "code",
   "execution_count": 62,
   "id": "aggregate-dairy",
   "metadata": {},
   "outputs": [],
   "source": [
    "conf_train = train_df.groupby('CONF')\n",
    "conf_test = test_df.groupby('CONF')\n",
    "#conf_train.size()"
   ]
  },
  {
   "cell_type": "code",
   "execution_count": 63,
   "id": "massive-grocery",
   "metadata": {},
   "outputs": [],
   "source": [
    "#boxplot = conf_train.boxplot(column=['ADJOE'])\n",
    "conferences = list(['A10', 'ACC','Amer', 'B10', 'B12', 'BE', 'SEC', 'P12'])\n",
    "big_conf = []\n",
    "for index, row in train_df.iterrows():\n",
    "    #print(index)\n",
    "    c = row[\"CONF\"]\n",
    "    if c in conferences:\n",
    "        big_conf.append(c) \n",
    "    else:\n",
    "        big_conf.append('OTH')\n",
    "        \n",
    "train_df['CLUS'] = big_conf"
   ]
  },
  {
   "cell_type": "code",
   "execution_count": 64,
   "id": "continuous-plastic",
   "metadata": {},
   "outputs": [
    {
     "data": {
      "text/plain": [
       "0       ACC\n",
       "1       B10\n",
       "2       B10\n",
       "3       B12\n",
       "4       OTH\n",
       "       ... \n",
       "2450    B10\n",
       "2451    P12\n",
       "2452    P12\n",
       "2453    A10\n",
       "2454    OTH\n",
       "Name: CLUS, Length: 476, dtype: object"
      ]
     },
     "execution_count": 64,
     "metadata": {},
     "output_type": "execute_result"
    }
   ],
   "source": [
    "train_df['CLUS']"
   ]
  },
  {
   "cell_type": "markdown",
   "id": "asian-exemption",
   "metadata": {},
   "source": [
    "Now we have groups by big conferences, now to see counts, boxplots, and stats"
   ]
  },
  {
   "cell_type": "code",
   "execution_count": 65,
   "id": "fatty-attention",
   "metadata": {},
   "outputs": [
    {
     "data": {
      "text/plain": [
       "<Figure size 1080x720 with 0 Axes>"
      ]
     },
     "metadata": {},
     "output_type": "display_data"
    },
    {
     "data": {
      "image/png": "[encoded data removed]",
      "text/plain": [
       "<Figure size 432x288 with 9 Axes>"
      ]
     },
     "metadata": {
      "needs_background": "light"
     },
     "output_type": "display_data"
    }
   ],
   "source": [
    "clustering = train_df.groupby('CLUS')\n",
    "plt.figure(figsize=(15,10))\n",
    "\n",
    "train_df['POSTSEASON'].hist(by=train_df['CLUS'],sharex=True)\n",
    "plt.show()"
   ]
  },
  {
   "cell_type": "markdown",
   "id": "coordinated-cleveland",
   "metadata": {},
   "source": [
    "# These histograms show a little, but can't really read it since the axes are whack\n",
    "\n",
    "## first, im going to see the separations S16/R32 cutoff"
   ]
  },
  {
   "cell_type": "code",
   "execution_count": 89,
   "id": "rolled-planner",
   "metadata": {},
   "outputs": [],
   "source": [
    "y_post = np.array(train_df['POSTSEASON'])\n",
    "y_post = y_post.reshape(len(y_post),1)\n",
    "cats = np.array(['Champions', '2ND', 'F4', 'E8', 'S16', 'R32', 'R64', 'R68'][::-1])\n",
    "cats = list(cats.reshape(1,-1))\n",
    "\n",
    "# turn categorical y to one-hot vector, then group\n",
    "onehot = OneHotEncoder(categories=cats, sparse=False)\n",
    "onehot_encode = onehot.fit_transform(y_post)\n",
    "# creating true classes, 0 - Rd64/32 and 1 - Rd16/8/4\n",
    "y_group=np.array([None]*onehot_encode.shape[0])\n",
    "for i,row in enumerate(onehot_encode):\n",
    "## for grouping, 1 if sweet 16 or further 0 for 32 or worse #:1 classi mbalance\n",
    "    idx = list(np.where(row == 1)[0])\n",
    "   \n",
    "    if idx[0] < 2.5:\n",
    "        y_group[i] = 0\n",
    "    elif idx[0] > 2.5:\n",
    "        y_group[i] = 1\n",
    "        \n",
    "y_class = y_group.astype(int)"
   ]
  },
  {
   "cell_type": "code",
   "execution_count": 90,
   "id": "transsexual-healthcare",
   "metadata": {},
   "outputs": [],
   "source": [
    "train_df['CUTOFF'] = y_class"
   ]
  },
  {
   "cell_type": "code",
   "execution_count": 91,
   "id": "optimum-alberta",
   "metadata": {},
   "outputs": [
    {
     "data": {
      "image/png": "[encoded data removed]",
      "text/plain": [
       "<Figure size 432x288 with 9 Axes>"
      ]
     },
     "metadata": {
      "needs_background": "light"
     },
     "output_type": "display_data"
    }
   ],
   "source": [
    "train_df['CUTOFF'].hist(by=train_df['CLUS'])\n",
    "plt.show()"
   ]
  },
  {
   "cell_type": "code",
   "execution_count": 115,
   "id": "robust-navigation",
   "metadata": {},
   "outputs": [
    {
     "name": "stdout",
     "output_type": "stream",
     "text": [
      "{'R68': 0, 'R64': 1, 'R32': 2, 'S16': 3, 'E8': 4, 'F4': 5, '2ND': 6, 'Champions': 7}\n"
     ]
    },
    {
     "data": {
      "text/plain": [
       "Text(0.5, 1.0, \"['By-Round Probability of a random team selected from a given conf will make the given round.']\")"
      ]
     },
     "execution_count": 115,
     "metadata": {},
     "output_type": "execute_result"
    },
    {
     "data": {
      "image/png": "[encoded data removed]",
      "text/plain": [
       "<Figure size 1440x1440 with 1 Axes>"
      ]
     },
     "metadata": {
      "needs_background": "light"
     },
     "output_type": "display_data"
    }
   ],
   "source": [
    "mapping = {cat: i for i, cat in enumerate(cats[0])}\n",
    "print(mapping)\n",
    "key = train_df['POSTSEASON'].map(mapping)\n",
    "train_df = train_df.iloc[key.argsort()]\n",
    "ax = train_df.groupby('POSTSEASON').CLUS.value_counts(normalize=True).unstack(0).plot.barh(figsize=(20,20),fontsize=20)\n",
    "ax.set_xlim([0,1])\n",
    "ax.set_ylabel('Conferences',fontsize=25)\n",
    "ax.set_xlabel('Normalized Value Counts', fontsize=18)\n",
    "ax.set_title(['By-Round Probability of a random team selected from a given conf will make the given round.'],fontsize=20)\n"
   ]
  },
  {
   "cell_type": "markdown",
   "id": "several-peter",
   "metadata": {},
   "source": [
    "# AT THIS POINT, i realize it is far too granular to do by-round. Also, i fail to see any relevant info from this plot\n",
    "\n",
    "## I go back to see sweet 16 and above versus early round losers\n"
   ]
  },
  {
   "cell_type": "code",
   "execution_count": 106,
   "id": "willing-rouge",
   "metadata": {},
   "outputs": [
    {
     "data": {
      "text/html": [
       "<div>\n",
       "<style scoped>\n",
       "    .dataframe tbody tr th:only-of-type {\n",
       "        vertical-align: middle;\n",
       "    }\n",
       "\n",
       "    .dataframe tbody tr th {\n",
       "        vertical-align: top;\n",
       "    }\n",
       "\n",
       "    .dataframe thead th {\n",
       "        text-align: right;\n",
       "    }\n",
       "</style>\n",
       "<table border=\"1\" class=\"dataframe\">\n",
       "  <thead>\n",
       "    <tr style=\"text-align: right;\">\n",
       "      <th></th>\n",
       "      <th>TEAM</th>\n",
       "      <th>CONF</th>\n",
       "      <th>G</th>\n",
       "      <th>W</th>\n",
       "      <th>ADJOE</th>\n",
       "      <th>ADJDE</th>\n",
       "      <th>BARTHAG</th>\n",
       "      <th>EFG_O</th>\n",
       "      <th>EFG_D</th>\n",
       "      <th>TOR</th>\n",
       "      <th>...</th>\n",
       "      <th>2P_D</th>\n",
       "      <th>3P_O</th>\n",
       "      <th>3P_D</th>\n",
       "      <th>ADJ_T</th>\n",
       "      <th>WAB</th>\n",
       "      <th>POSTSEASON</th>\n",
       "      <th>SEED</th>\n",
       "      <th>YEAR</th>\n",
       "      <th>CLUS</th>\n",
       "      <th>CUTOFF</th>\n",
       "    </tr>\n",
       "  </thead>\n",
       "  <tbody>\n",
       "    <tr>\n",
       "      <th>10</th>\n",
       "      <td>Villanova</td>\n",
       "      <td>BE</td>\n",
       "      <td>40</td>\n",
       "      <td>35</td>\n",
       "      <td>123.1</td>\n",
       "      <td>90.9</td>\n",
       "      <td>0.9703</td>\n",
       "      <td>56.1</td>\n",
       "      <td>46.7</td>\n",
       "      <td>16.3</td>\n",
       "      <td>...</td>\n",
       "      <td>44.1</td>\n",
       "      <td>36.2</td>\n",
       "      <td>33.9</td>\n",
       "      <td>66.7</td>\n",
       "      <td>8.9</td>\n",
       "      <td>Champions</td>\n",
       "      <td>2.0</td>\n",
       "      <td>2016</td>\n",
       "      <td>BE</td>\n",
       "      <td>1</td>\n",
       "    </tr>\n",
       "    <tr>\n",
       "      <th>11</th>\n",
       "      <td>Villanova</td>\n",
       "      <td>BE</td>\n",
       "      <td>40</td>\n",
       "      <td>36</td>\n",
       "      <td>128.4</td>\n",
       "      <td>94.1</td>\n",
       "      <td>0.9725</td>\n",
       "      <td>59.5</td>\n",
       "      <td>48.5</td>\n",
       "      <td>15.0</td>\n",
       "      <td>...</td>\n",
       "      <td>49.0</td>\n",
       "      <td>40.1</td>\n",
       "      <td>31.7</td>\n",
       "      <td>69.6</td>\n",
       "      <td>10.6</td>\n",
       "      <td>Champions</td>\n",
       "      <td>1.0</td>\n",
       "      <td>2018</td>\n",
       "      <td>BE</td>\n",
       "      <td>1</td>\n",
       "    </tr>\n",
       "    <tr>\n",
       "      <th>13</th>\n",
       "      <td>Louisville</td>\n",
       "      <td>BE</td>\n",
       "      <td>40</td>\n",
       "      <td>35</td>\n",
       "      <td>115.9</td>\n",
       "      <td>84.5</td>\n",
       "      <td>0.9743</td>\n",
       "      <td>50.6</td>\n",
       "      <td>44.8</td>\n",
       "      <td>18.3</td>\n",
       "      <td>...</td>\n",
       "      <td>43.4</td>\n",
       "      <td>33.3</td>\n",
       "      <td>31.8</td>\n",
       "      <td>67.1</td>\n",
       "      <td>9.0</td>\n",
       "      <td>Champions</td>\n",
       "      <td>1.0</td>\n",
       "      <td>2013</td>\n",
       "      <td>BE</td>\n",
       "      <td>1</td>\n",
       "    </tr>\n",
       "    <tr>\n",
       "      <th>7</th>\n",
       "      <td>Duke</td>\n",
       "      <td>ACC</td>\n",
       "      <td>39</td>\n",
       "      <td>35</td>\n",
       "      <td>125.2</td>\n",
       "      <td>90.6</td>\n",
       "      <td>0.9764</td>\n",
       "      <td>56.6</td>\n",
       "      <td>46.5</td>\n",
       "      <td>16.3</td>\n",
       "      <td>...</td>\n",
       "      <td>46.3</td>\n",
       "      <td>38.7</td>\n",
       "      <td>31.4</td>\n",
       "      <td>66.4</td>\n",
       "      <td>10.7</td>\n",
       "      <td>Champions</td>\n",
       "      <td>1.0</td>\n",
       "      <td>2015</td>\n",
       "      <td>ACC</td>\n",
       "      <td>1</td>\n",
       "    </tr>\n",
       "    <tr>\n",
       "      <th>8</th>\n",
       "      <td>Virginia</td>\n",
       "      <td>ACC</td>\n",
       "      <td>38</td>\n",
       "      <td>35</td>\n",
       "      <td>123.0</td>\n",
       "      <td>89.9</td>\n",
       "      <td>0.9736</td>\n",
       "      <td>55.2</td>\n",
       "      <td>44.7</td>\n",
       "      <td>14.7</td>\n",
       "      <td>...</td>\n",
       "      <td>45.7</td>\n",
       "      <td>39.5</td>\n",
       "      <td>28.9</td>\n",
       "      <td>60.7</td>\n",
       "      <td>11.1</td>\n",
       "      <td>Champions</td>\n",
       "      <td>1.0</td>\n",
       "      <td>2019</td>\n",
       "      <td>ACC</td>\n",
       "      <td>1</td>\n",
       "    </tr>\n",
       "    <tr>\n",
       "      <th>9</th>\n",
       "      <td>North Carolina</td>\n",
       "      <td>ACC</td>\n",
       "      <td>39</td>\n",
       "      <td>33</td>\n",
       "      <td>121.0</td>\n",
       "      <td>91.5</td>\n",
       "      <td>0.9615</td>\n",
       "      <td>51.7</td>\n",
       "      <td>48.1</td>\n",
       "      <td>16.2</td>\n",
       "      <td>...</td>\n",
       "      <td>46.3</td>\n",
       "      <td>35.5</td>\n",
       "      <td>33.9</td>\n",
       "      <td>72.8</td>\n",
       "      <td>8.4</td>\n",
       "      <td>Champions</td>\n",
       "      <td>1.0</td>\n",
       "      <td>2017</td>\n",
       "      <td>ACC</td>\n",
       "      <td>1</td>\n",
       "    </tr>\n",
       "    <tr>\n",
       "      <th>12</th>\n",
       "      <td>Connecticut</td>\n",
       "      <td>Amer</td>\n",
       "      <td>40</td>\n",
       "      <td>32</td>\n",
       "      <td>112.5</td>\n",
       "      <td>91.3</td>\n",
       "      <td>0.9171</td>\n",
       "      <td>51.5</td>\n",
       "      <td>44.6</td>\n",
       "      <td>17.3</td>\n",
       "      <td>...</td>\n",
       "      <td>42.2</td>\n",
       "      <td>38.7</td>\n",
       "      <td>33.0</td>\n",
       "      <td>64.8</td>\n",
       "      <td>4.7</td>\n",
       "      <td>Champions</td>\n",
       "      <td>7.0</td>\n",
       "      <td>2014</td>\n",
       "      <td>Amer</td>\n",
       "      <td>1</td>\n",
       "    </tr>\n",
       "  </tbody>\n",
       "</table>\n",
       "<p>7 rows × 26 columns</p>\n",
       "</div>"
      ],
      "text/plain": [
       "              TEAM  CONF   G   W  ADJOE  ADJDE  BARTHAG  EFG_O  EFG_D   TOR  \\\n",
       "10       Villanova    BE  40  35  123.1   90.9   0.9703   56.1   46.7  16.3   \n",
       "11       Villanova    BE  40  36  128.4   94.1   0.9725   59.5   48.5  15.0   \n",
       "13      Louisville    BE  40  35  115.9   84.5   0.9743   50.6   44.8  18.3   \n",
       "7             Duke   ACC  39  35  125.2   90.6   0.9764   56.6   46.5  16.3   \n",
       "8         Virginia   ACC  38  35  123.0   89.9   0.9736   55.2   44.7  14.7   \n",
       "9   North Carolina   ACC  39  33  121.0   91.5   0.9615   51.7   48.1  16.2   \n",
       "12     Connecticut  Amer  40  32  112.5   91.3   0.9171   51.5   44.6  17.3   \n",
       "\n",
       "    ...  2P_D  3P_O  3P_D  ADJ_T   WAB  POSTSEASON  SEED  YEAR  CLUS  CUTOFF  \n",
       "10  ...  44.1  36.2  33.9   66.7   8.9   Champions   2.0  2016    BE       1  \n",
       "11  ...  49.0  40.1  31.7   69.6  10.6   Champions   1.0  2018    BE       1  \n",
       "13  ...  43.4  33.3  31.8   67.1   9.0   Champions   1.0  2013    BE       1  \n",
       "7   ...  46.3  38.7  31.4   66.4  10.7   Champions   1.0  2015   ACC       1  \n",
       "8   ...  45.7  39.5  28.9   60.7  11.1   Champions   1.0  2019   ACC       1  \n",
       "9   ...  46.3  35.5  33.9   72.8   8.4   Champions   1.0  2017   ACC       1  \n",
       "12  ...  42.2  38.7  33.0   64.8   4.7   Champions   7.0  2014  Amer       1  \n",
       "\n",
       "[7 rows x 26 columns]"
      ]
     },
     "execution_count": 106,
     "metadata": {},
     "output_type": "execute_result"
    }
   ],
   "source": []
  },
  {
   "cell_type": "code",
   "execution_count": 114,
   "id": "controversial-merchandise",
   "metadata": {},
   "outputs": [
    {
     "data": {
      "text/plain": [
       "<matplotlib.legend.Legend at 0x7fa9196396d0>"
      ]
     },
     "execution_count": 114,
     "metadata": {},
     "output_type": "execute_result"
    },
    {
     "data": {
      "image/png": "[encoded data removed]",
      "text/plain": [
       "<Figure size 1080x1080 with 1 Axes>"
      ]
     },
     "metadata": {
      "needs_background": "light"
     },
     "output_type": "display_data"
    }
   ],
   "source": [
    "ax = train_df.groupby('CUTOFF').CLUS.value_counts(normalize=True).unstack(0).plot.barh(figsize=(15,15),fontsize=20)\n",
    "ax.set_xlim([0,1])\n",
    "ax.set_ylabel('Conferences',fontsize=25)\n",
    "ax.set_xlabel('Normalized value counts', fontsize=18)\n",
    "ax.set_title('Colors sum to 1, the percent in losers/winner in that conf', fontsize=20)\n",
    "ax.legend(['Early Rd LOSER','S16 WINNER'],fontsize='x-large')"
   ]
  },
  {
   "cell_type": "markdown",
   "id": "blank-amino",
   "metadata": {},
   "source": [
    "# Here, we see a general uniform trend. That is, on average, conference counts in the S16 are somewhat uniform, with ACC Amer BE exceptions\n",
    "\n",
    "# the issue is, this does not give any info on why, and in particular, i want to explore the likelihood of being a WINNER based on conference\n",
    "\n",
    "## end goal is to find if a particular conference has a higher likelihood of having a given team from their conference advance far in the tournament\n",
    "\n",
    "### my criteria being S16"
   ]
  },
  {
   "cell_type": "code",
   "execution_count": null,
   "id": "raised-rwanda",
   "metadata": {},
   "outputs": [],
   "source": []
  }
 ],
 "metadata": {
  "kernelspec": {
   "display_name": "Python 3",
   "language": "python",
   "name": "python3"
  },
  "language_info": {
   "codemirror_mode": {
    "name": "ipython",
    "version": 3
   },
   "file_extension": ".py",
   "mimetype": "text/x-python",
   "name": "python",
   "nbconvert_exporter": "python",
   "pygments_lexer": "ipython3",
   "version": "3.9.2"
  }
 },
 "nbformat": 4,
 "nbformat_minor": 5
}

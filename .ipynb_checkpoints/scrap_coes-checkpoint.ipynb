{
 "cells": [
  {
   "cell_type": "markdown",
   "id": "rental-appendix",
   "metadata": {},
   "source": [
    "This was an experiment with classifiying this data as sweet 16 or not. did not address class imbalance (yet, to do tomorrow)"
   ]
  },
  {
   "cell_type": "code",
   "execution_count": 1,
   "id": "union-narrative",
   "metadata": {},
   "outputs": [],
   "source": [
    "import pandas as pd\n",
    "import numpy as np\n",
    "import matplotlib.pyplot as plt\n",
    "import seaborn as sns\n",
    "import os\n",
    "import sklearn\n",
    "from sklearn.metrics import confusion_matrix, classification_report\n",
    "from sklearn.model_selection import train_test_split\n",
    "from sklearn.preprocessing import OneHotEncoder, LabelEncoder\n",
    "from imblearn.over_sampling import RandomOverSampler"
   ]
  },
  {
   "cell_type": "code",
   "execution_count": 2,
   "id": "durable-porter",
   "metadata": {},
   "outputs": [],
   "source": [
    "train_df = pd.read_csv('./archive/cbb.csv')\n",
    "train_df = train_df[train_df['SEED'] < 17.0]\n",
    "train_df.reset_index()\n",
    "test_df = pd.read_csv('./archive/cbb21.csv')"
   ]
  },
  {
   "cell_type": "code",
   "execution_count": 3,
   "id": "decreased-secretariat",
   "metadata": {},
   "outputs": [
    {
     "data": {
      "text/html": [
       "<div>\n",
       "<style scoped>\n",
       "    .dataframe tbody tr th:only-of-type {\n",
       "        vertical-align: middle;\n",
       "    }\n",
       "\n",
       "    .dataframe tbody tr th {\n",
       "        vertical-align: top;\n",
       "    }\n",
       "\n",
       "    .dataframe thead th {\n",
       "        text-align: right;\n",
       "    }\n",
       "</style>\n",
       "<table border=\"1\" class=\"dataframe\">\n",
       "  <thead>\n",
       "    <tr style=\"text-align: right;\">\n",
       "      <th></th>\n",
       "      <th>TEAM</th>\n",
       "      <th>CONF</th>\n",
       "      <th>G</th>\n",
       "      <th>W</th>\n",
       "      <th>ADJOE</th>\n",
       "      <th>ADJDE</th>\n",
       "      <th>BARTHAG</th>\n",
       "      <th>EFG_O</th>\n",
       "      <th>EFG_D</th>\n",
       "      <th>TOR</th>\n",
       "      <th>...</th>\n",
       "      <th>FTRD</th>\n",
       "      <th>2P_O</th>\n",
       "      <th>2P_D</th>\n",
       "      <th>3P_O</th>\n",
       "      <th>3P_D</th>\n",
       "      <th>ADJ_T</th>\n",
       "      <th>WAB</th>\n",
       "      <th>POSTSEASON</th>\n",
       "      <th>SEED</th>\n",
       "      <th>YEAR</th>\n",
       "    </tr>\n",
       "  </thead>\n",
       "  <tbody>\n",
       "    <tr>\n",
       "      <th>0</th>\n",
       "      <td>North Carolina</td>\n",
       "      <td>ACC</td>\n",
       "      <td>40</td>\n",
       "      <td>33</td>\n",
       "      <td>123.3</td>\n",
       "      <td>94.9</td>\n",
       "      <td>0.9531</td>\n",
       "      <td>52.6</td>\n",
       "      <td>48.1</td>\n",
       "      <td>15.4</td>\n",
       "      <td>...</td>\n",
       "      <td>30.4</td>\n",
       "      <td>53.9</td>\n",
       "      <td>44.6</td>\n",
       "      <td>32.7</td>\n",
       "      <td>36.2</td>\n",
       "      <td>71.7</td>\n",
       "      <td>8.6</td>\n",
       "      <td>2ND</td>\n",
       "      <td>1.0</td>\n",
       "      <td>2016</td>\n",
       "    </tr>\n",
       "    <tr>\n",
       "      <th>1</th>\n",
       "      <td>Wisconsin</td>\n",
       "      <td>B10</td>\n",
       "      <td>40</td>\n",
       "      <td>36</td>\n",
       "      <td>129.1</td>\n",
       "      <td>93.6</td>\n",
       "      <td>0.9758</td>\n",
       "      <td>54.8</td>\n",
       "      <td>47.7</td>\n",
       "      <td>12.4</td>\n",
       "      <td>...</td>\n",
       "      <td>22.4</td>\n",
       "      <td>54.8</td>\n",
       "      <td>44.7</td>\n",
       "      <td>36.5</td>\n",
       "      <td>37.5</td>\n",
       "      <td>59.3</td>\n",
       "      <td>11.3</td>\n",
       "      <td>2ND</td>\n",
       "      <td>1.0</td>\n",
       "      <td>2015</td>\n",
       "    </tr>\n",
       "    <tr>\n",
       "      <th>2</th>\n",
       "      <td>Michigan</td>\n",
       "      <td>B10</td>\n",
       "      <td>40</td>\n",
       "      <td>33</td>\n",
       "      <td>114.4</td>\n",
       "      <td>90.4</td>\n",
       "      <td>0.9375</td>\n",
       "      <td>53.9</td>\n",
       "      <td>47.7</td>\n",
       "      <td>14.0</td>\n",
       "      <td>...</td>\n",
       "      <td>30.0</td>\n",
       "      <td>54.7</td>\n",
       "      <td>46.8</td>\n",
       "      <td>35.2</td>\n",
       "      <td>33.2</td>\n",
       "      <td>65.9</td>\n",
       "      <td>6.9</td>\n",
       "      <td>2ND</td>\n",
       "      <td>3.0</td>\n",
       "      <td>2018</td>\n",
       "    </tr>\n",
       "    <tr>\n",
       "      <th>3</th>\n",
       "      <td>Texas Tech</td>\n",
       "      <td>B12</td>\n",
       "      <td>38</td>\n",
       "      <td>31</td>\n",
       "      <td>115.2</td>\n",
       "      <td>85.2</td>\n",
       "      <td>0.9696</td>\n",
       "      <td>53.5</td>\n",
       "      <td>43.0</td>\n",
       "      <td>17.7</td>\n",
       "      <td>...</td>\n",
       "      <td>36.6</td>\n",
       "      <td>52.8</td>\n",
       "      <td>41.9</td>\n",
       "      <td>36.5</td>\n",
       "      <td>29.7</td>\n",
       "      <td>67.5</td>\n",
       "      <td>7.0</td>\n",
       "      <td>2ND</td>\n",
       "      <td>3.0</td>\n",
       "      <td>2019</td>\n",
       "    </tr>\n",
       "    <tr>\n",
       "      <th>4</th>\n",
       "      <td>Gonzaga</td>\n",
       "      <td>WCC</td>\n",
       "      <td>39</td>\n",
       "      <td>37</td>\n",
       "      <td>117.8</td>\n",
       "      <td>86.3</td>\n",
       "      <td>0.9728</td>\n",
       "      <td>56.6</td>\n",
       "      <td>41.1</td>\n",
       "      <td>16.2</td>\n",
       "      <td>...</td>\n",
       "      <td>26.9</td>\n",
       "      <td>56.3</td>\n",
       "      <td>40.0</td>\n",
       "      <td>38.2</td>\n",
       "      <td>29.0</td>\n",
       "      <td>71.5</td>\n",
       "      <td>7.7</td>\n",
       "      <td>2ND</td>\n",
       "      <td>1.0</td>\n",
       "      <td>2017</td>\n",
       "    </tr>\n",
       "  </tbody>\n",
       "</table>\n",
       "<p>5 rows × 24 columns</p>\n",
       "</div>"
      ],
      "text/plain": [
       "             TEAM CONF   G   W  ADJOE  ADJDE  BARTHAG  EFG_O  EFG_D   TOR  \\\n",
       "0  North Carolina  ACC  40  33  123.3   94.9   0.9531   52.6   48.1  15.4   \n",
       "1       Wisconsin  B10  40  36  129.1   93.6   0.9758   54.8   47.7  12.4   \n",
       "2        Michigan  B10  40  33  114.4   90.4   0.9375   53.9   47.7  14.0   \n",
       "3      Texas Tech  B12  38  31  115.2   85.2   0.9696   53.5   43.0  17.7   \n",
       "4         Gonzaga  WCC  39  37  117.8   86.3   0.9728   56.6   41.1  16.2   \n",
       "\n",
       "   ...  FTRD  2P_O  2P_D  3P_O  3P_D  ADJ_T   WAB  POSTSEASON  SEED  YEAR  \n",
       "0  ...  30.4  53.9  44.6  32.7  36.2   71.7   8.6         2ND   1.0  2016  \n",
       "1  ...  22.4  54.8  44.7  36.5  37.5   59.3  11.3         2ND   1.0  2015  \n",
       "2  ...  30.0  54.7  46.8  35.2  33.2   65.9   6.9         2ND   3.0  2018  \n",
       "3  ...  36.6  52.8  41.9  36.5  29.7   67.5   7.0         2ND   3.0  2019  \n",
       "4  ...  26.9  56.3  40.0  38.2  29.0   71.5   7.7         2ND   1.0  2017  \n",
       "\n",
       "[5 rows x 24 columns]"
      ]
     },
     "execution_count": 3,
     "metadata": {},
     "output_type": "execute_result"
    }
   ],
   "source": [
    "train_df.head()"
   ]
  },
  {
   "cell_type": "code",
   "execution_count": 4,
   "id": "broad-promise",
   "metadata": {},
   "outputs": [
    {
     "data": {
      "text/html": [
       "<div>\n",
       "<style scoped>\n",
       "    .dataframe tbody tr th:only-of-type {\n",
       "        vertical-align: middle;\n",
       "    }\n",
       "\n",
       "    .dataframe tbody tr th {\n",
       "        vertical-align: top;\n",
       "    }\n",
       "\n",
       "    .dataframe thead th {\n",
       "        text-align: right;\n",
       "    }\n",
       "</style>\n",
       "<table border=\"1\" class=\"dataframe\">\n",
       "  <thead>\n",
       "    <tr style=\"text-align: right;\">\n",
       "      <th></th>\n",
       "      <th>TEAM</th>\n",
       "      <th>CONF</th>\n",
       "      <th>G</th>\n",
       "      <th>W</th>\n",
       "      <th>ADJOE</th>\n",
       "      <th>ADJDE</th>\n",
       "      <th>BARTHAG</th>\n",
       "      <th>EFG_O</th>\n",
       "      <th>EFG_D</th>\n",
       "      <th>TOR</th>\n",
       "      <th>...</th>\n",
       "      <th>DRB</th>\n",
       "      <th>FTR</th>\n",
       "      <th>FTRD</th>\n",
       "      <th>2P_O</th>\n",
       "      <th>2P_D</th>\n",
       "      <th>3P_O</th>\n",
       "      <th>3P_D</th>\n",
       "      <th>ADJ_T</th>\n",
       "      <th>WAB</th>\n",
       "      <th>SEED</th>\n",
       "    </tr>\n",
       "  </thead>\n",
       "  <tbody>\n",
       "    <tr>\n",
       "      <th>0</th>\n",
       "      <td>Michigan</td>\n",
       "      <td>B10</td>\n",
       "      <td>24</td>\n",
       "      <td>20</td>\n",
       "      <td>118.1</td>\n",
       "      <td>91.1</td>\n",
       "      <td>0.9521</td>\n",
       "      <td>54.9</td>\n",
       "      <td>44.9</td>\n",
       "      <td>16.3</td>\n",
       "      <td>...</td>\n",
       "      <td>24.8</td>\n",
       "      <td>28.9</td>\n",
       "      <td>24.5</td>\n",
       "      <td>53.3</td>\n",
       "      <td>42.3</td>\n",
       "      <td>38.7</td>\n",
       "      <td>33.5</td>\n",
       "      <td>66.9</td>\n",
       "      <td>7.2</td>\n",
       "      <td>1.0</td>\n",
       "    </tr>\n",
       "    <tr>\n",
       "      <th>1</th>\n",
       "      <td>Baylor</td>\n",
       "      <td>B12</td>\n",
       "      <td>24</td>\n",
       "      <td>22</td>\n",
       "      <td>123.2</td>\n",
       "      <td>94.5</td>\n",
       "      <td>0.9548</td>\n",
       "      <td>57.5</td>\n",
       "      <td>49.1</td>\n",
       "      <td>17.6</td>\n",
       "      <td>...</td>\n",
       "      <td>30.9</td>\n",
       "      <td>27.0</td>\n",
       "      <td>31.7</td>\n",
       "      <td>54.1</td>\n",
       "      <td>48.1</td>\n",
       "      <td>41.8</td>\n",
       "      <td>34.0</td>\n",
       "      <td>68.8</td>\n",
       "      <td>6.6</td>\n",
       "      <td>1.0</td>\n",
       "    </tr>\n",
       "    <tr>\n",
       "      <th>2</th>\n",
       "      <td>Illinois</td>\n",
       "      <td>B10</td>\n",
       "      <td>29</td>\n",
       "      <td>23</td>\n",
       "      <td>117.7</td>\n",
       "      <td>90.4</td>\n",
       "      <td>0.9539</td>\n",
       "      <td>55.6</td>\n",
       "      <td>46.6</td>\n",
       "      <td>18.2</td>\n",
       "      <td>...</td>\n",
       "      <td>22.2</td>\n",
       "      <td>39.2</td>\n",
       "      <td>30.5</td>\n",
       "      <td>55.3</td>\n",
       "      <td>45.4</td>\n",
       "      <td>37.6</td>\n",
       "      <td>32.7</td>\n",
       "      <td>70.7</td>\n",
       "      <td>8.9</td>\n",
       "      <td>1.0</td>\n",
       "    </tr>\n",
       "    <tr>\n",
       "      <th>3</th>\n",
       "      <td>Gonzaga</td>\n",
       "      <td>WCC</td>\n",
       "      <td>26</td>\n",
       "      <td>26</td>\n",
       "      <td>125.4</td>\n",
       "      <td>89.8</td>\n",
       "      <td>0.9791</td>\n",
       "      <td>61.0</td>\n",
       "      <td>47.5</td>\n",
       "      <td>16.1</td>\n",
       "      <td>...</td>\n",
       "      <td>23.4</td>\n",
       "      <td>36.7</td>\n",
       "      <td>25.9</td>\n",
       "      <td>64.0</td>\n",
       "      <td>46.8</td>\n",
       "      <td>36.5</td>\n",
       "      <td>32.5</td>\n",
       "      <td>74.6</td>\n",
       "      <td>8.5</td>\n",
       "      <td>1.0</td>\n",
       "    </tr>\n",
       "    <tr>\n",
       "      <th>4</th>\n",
       "      <td>Iowa</td>\n",
       "      <td>B10</td>\n",
       "      <td>29</td>\n",
       "      <td>21</td>\n",
       "      <td>123.5</td>\n",
       "      <td>95.7</td>\n",
       "      <td>0.9491</td>\n",
       "      <td>54.6</td>\n",
       "      <td>48.3</td>\n",
       "      <td>13.3</td>\n",
       "      <td>...</td>\n",
       "      <td>28.6</td>\n",
       "      <td>32.0</td>\n",
       "      <td>22.6</td>\n",
       "      <td>52.4</td>\n",
       "      <td>45.8</td>\n",
       "      <td>38.6</td>\n",
       "      <td>34.8</td>\n",
       "      <td>70.0</td>\n",
       "      <td>5.6</td>\n",
       "      <td>2.0</td>\n",
       "    </tr>\n",
       "  </tbody>\n",
       "</table>\n",
       "<p>5 rows × 22 columns</p>\n",
       "</div>"
      ],
      "text/plain": [
       "       TEAM CONF   G   W  ADJOE  ADJDE  BARTHAG  EFG_O  EFG_D   TOR  ...  \\\n",
       "0  Michigan  B10  24  20  118.1   91.1   0.9521   54.9   44.9  16.3  ...   \n",
       "1    Baylor  B12  24  22  123.2   94.5   0.9548   57.5   49.1  17.6  ...   \n",
       "2  Illinois  B10  29  23  117.7   90.4   0.9539   55.6   46.6  18.2  ...   \n",
       "3   Gonzaga  WCC  26  26  125.4   89.8   0.9791   61.0   47.5  16.1  ...   \n",
       "4      Iowa  B10  29  21  123.5   95.7   0.9491   54.6   48.3  13.3  ...   \n",
       "\n",
       "    DRB   FTR  FTRD  2P_O  2P_D  3P_O  3P_D  ADJ_T  WAB  SEED  \n",
       "0  24.8  28.9  24.5  53.3  42.3  38.7  33.5   66.9  7.2   1.0  \n",
       "1  30.9  27.0  31.7  54.1  48.1  41.8  34.0   68.8  6.6   1.0  \n",
       "2  22.2  39.2  30.5  55.3  45.4  37.6  32.7   70.7  8.9   1.0  \n",
       "3  23.4  36.7  25.9  64.0  46.8  36.5  32.5   74.6  8.5   1.0  \n",
       "4  28.6  32.0  22.6  52.4  45.8  38.6  34.8   70.0  5.6   2.0  \n",
       "\n",
       "[5 rows x 22 columns]"
      ]
     },
     "execution_count": 4,
     "metadata": {},
     "output_type": "execute_result"
    }
   ],
   "source": [
    "'''start here - try to see if you can cluster of SVM a dividing line between sweet 16\n",
    "and below that. you have to take into account class imbalance though!!!'''\n",
    "test_df.head()"
   ]
  },
  {
   "cell_type": "code",
   "execution_count": 5,
   "id": "prospective-dating",
   "metadata": {},
   "outputs": [],
   "source": [
    "y_post = np.array(train_df['POSTSEASON'])\n",
    "y_post = y_post.reshape(len(y_post),1)\n",
    "cats = np.array(['Champions', '2ND', 'F4', 'E8', 'S16', 'R32', 'R64', 'R68'][::-1])\n",
    "cats = list(cats.reshape(1,-1))\n",
    "\n",
    "\n",
    "onehot = OneHotEncoder(categories=cats, sparse=False)\n",
    "\n",
    "onehot_encode = onehot.fit_transform(y_post)\n",
    "y_group=np.array([None]*onehot_encode.shape[0])\n",
    "for i,row in enumerate(onehot_encode):\n",
    "## for grouping, 1 if sweet 16 or further 0 for 32 or worse #:1 classi mbalance\n",
    "    idx = list(np.where(row == 1)[0])\n",
    "   \n",
    "    if idx[0] < 2.5:\n",
    "        y_group[i] = 0\n",
    "    elif idx[0] > 2.5:\n",
    "        y_group[i] = 1\n",
    "        \n",
    "#y_group\n",
    "\n",
    "### for onehot\n",
    "    #if row[0] == 1:\n",
    "     #   onehot_encode[i,1] = 1\n",
    "      #  onehot_encode[i,0] = 0\n",
    "#print(onehot.categories_)\n",
    "#y_onehot = onehot_encode[:,1:]"
   ]
  },
  {
   "cell_type": "code",
   "execution_count": 6,
   "id": "enclosed-message",
   "metadata": {},
   "outputs": [
    {
     "data": {
      "text/plain": [
       "(476, 12)"
      ]
     },
     "execution_count": 6,
     "metadata": {},
     "output_type": "execute_result"
    }
   ],
   "source": [
    "#['ADJOE', 'ADJDE','BARTHAG','EFG_O','EFG_D','TOR', 'TORD', 'ORB', 'DRB','FTR','FTRD','2P_O', '2P_D', '3P_O', '3P_D','ADJ_T','WAB']\n",
    "#train_df.set_index('TEAM')\n",
    "\n",
    "x_cats = ['TEAM','ADJOE','ADJDE','EFG_O','EFG_D','TOR', 'TORD', 'ORB','FTRD', '2P_D', '3P_O', '3P_D','ADJ_T']\n",
    "x_train, x_test, y_train, y_test = train_test_split(train_df[x_cats],y_group,test_size=0.1)\n",
    "X = train_df[x_cats]\n",
    "\n",
    "X=X.set_index('TEAM')\n",
    "X.shape"
   ]
  },
  {
   "cell_type": "raw",
   "id": "fifty-basis",
   "metadata": {},
   "source": [
    "NOW WE ARE TRANSITIONING INTO MAKING GROUPS, ONE OF S16 AND FARTHER AND ONE THE REST\n",
    "\n",
    "WANT A HEATMAP OF CORRELATIONS OVER ALL OF THEM\n",
    "\n",
    "SEPARATE THE 24 STATS BY THEIR SIMILAR RELATIONSHIPS, ADJ_OE WITH BE WITH FGP, TOF APG)"
   ]
  },
  {
   "cell_type": "markdown",
   "id": "silver-therapy",
   "metadata": {},
   "source": []
  },
  {
   "cell_type": "code",
   "execution_count": 7,
   "id": "starting-wright",
   "metadata": {},
   "outputs": [
    {
     "data": {
      "image/png": "[encoded data removed]",
      "text/plain": [
       "<Figure size 864x864 with 2 Axes>"
      ]
     },
     "metadata": {
      "needs_background": "light"
     },
     "output_type": "display_data"
    }
   ],
   "source": [
    "# WE GOT IT RUNNING, BUT IT IS REALLY ONLY GOOD FOR ONE ROUND AT A TIME. THE OUTPUT PRED\n",
    "# ARE ALMOST ALL TRIVIAL CORRECTNESS\n",
    "#MEANS IT'S ONLY GOOD FOR ONE ROUND, LOOKS LIKE WELL NEED A TREE OF RANDOM FORES\n",
    "plt.figure(figsize=(12,12))\n",
    "sns.heatmap(X.corr(),vmin=-.75,vmax=.75,annot=True)\n",
    "plt.title('Correlations between variables - Check w/formulas')\n",
    "plt.show()\n",
    "#NIX THIS DIEA"
   ]
  },
  {
   "cell_type": "code",
   "execution_count": null,
   "id": "abroad-selling",
   "metadata": {
    "scrolled": true
   },
   "outputs": [],
   "source": [
    "\n"
   ]
  },
  {
   "cell_type": "code",
   "execution_count": 8,
   "id": "brave-manner",
   "metadata": {},
   "outputs": [
    {
     "name": "stdout",
     "output_type": "stream",
     "text": [
      "728\n",
      "Original dataset shape 476\n",
      "Resample dataset shape 728\n"
     ]
    },
    {
     "ename": "NameError",
     "evalue": "name 'Xt' is not defined",
     "output_type": "error",
     "traceback": [
      "\u001b[0;31m---------------------------------------------------------------------------\u001b[0m",
      "\u001b[0;31mNameError\u001b[0m                                 Traceback (most recent call last)",
      "\u001b[0;32m<ipython-input-8-df091c6a84ee>\u001b[0m in \u001b[0;36m<module>\u001b[0;34m\u001b[0m\n\u001b[1;32m     16\u001b[0m \u001b[0mprint\u001b[0m\u001b[0;34m(\u001b[0m\u001b[0;34m'Resample dataset shape'\u001b[0m\u001b[0;34m,\u001b[0m \u001b[0mlen\u001b[0m\u001b[0;34m(\u001b[0m\u001b[0my_smote\u001b[0m\u001b[0;34m)\u001b[0m\u001b[0;34m)\u001b[0m\u001b[0;34m\u001b[0m\u001b[0;34m\u001b[0m\u001b[0m\n\u001b[1;32m     17\u001b[0m \u001b[0;34m\u001b[0m\u001b[0m\n\u001b[0;32m---> 18\u001b[0;31m \u001b[0mprint\u001b[0m\u001b[0;34m(\u001b[0m\u001b[0mXt\u001b[0m\u001b[0;34m.\u001b[0m\u001b[0mshape\u001b[0m\u001b[0;34m)\u001b[0m\u001b[0;34m\u001b[0m\u001b[0;34m\u001b[0m\u001b[0m\n\u001b[0m\u001b[1;32m     19\u001b[0m \u001b[0mpca\u001b[0m\u001b[0;34m.\u001b[0m\u001b[0mfit\u001b[0m\u001b[0;34m(\u001b[0m\u001b[0mXt\u001b[0m\u001b[0;34m)\u001b[0m\u001b[0;34m\u001b[0m\u001b[0;34m\u001b[0m\u001b[0m\n\u001b[1;32m     20\u001b[0m \u001b[0mprint\u001b[0m\u001b[0;34m(\u001b[0m\u001b[0mpca\u001b[0m\u001b[0;34m.\u001b[0m\u001b[0mexplained_variance_ratio_\u001b[0m\u001b[0;34m)\u001b[0m\u001b[0;34m\u001b[0m\u001b[0;34m\u001b[0m\u001b[0m\n",
      "\u001b[0;31mNameError\u001b[0m: name 'Xt' is not defined"
     ]
    }
   ],
   "source": [
    "from sklearn.preprocessing import StandardScaler\n",
    "from sklearn.decomposition import PCA\n",
    "# potentially taking out 2pt offense\n",
    "scaler = StandardScaler()\n",
    "pca = PCA(n_components=10)\n",
    "from imblearn.over_sampling import SMOTE\n",
    "y_g = y_group.astype(int)\n",
    "\n",
    "smote = SMOTE()\n",
    "X_t = scaler.fit_transform(X)\n",
    "# fit predictor and target variable\n",
    "x, y_smote = smote.fit_resample(X_t, y_g)\n",
    "print(len(y_smote))\n",
    "\n",
    "print('Original dataset shape', len(y_group))\n",
    "print('Resample dataset shape', len(y_smote))\n",
    "\n",
    "print(Xt.shape)\n",
    "pca.fit(Xt)\n",
    "print(pca.explained_variance_ratio_)\n",
    "Xpca = pca.fit_transform(Xt)\n",
    "Xpca.shape\n",
    "#y_group.shape\n",
    "#Xt"
   ]
  },
  {
   "cell_type": "code",
   "execution_count": null,
   "id": "constant-investigation",
   "metadata": {},
   "outputs": [],
   "source": []
  },
  {
   "cell_type": "code",
   "execution_count": null,
   "id": "covered-delight",
   "metadata": {},
   "outputs": [],
   "source": [
    "#checking first pca components for splittign ability of sweet 16 and else\n",
    "fig=plt.figure(figsize=(12,12))\n",
    "ax = fig.add_subplot(projection='3d')\n",
    "ax.scatter(Xpca[:,0],Xpca[:,1],Xpca[:,2],c=y_group,cmap='winter')\n",
    "\n",
    "\n",
    "ax.set_xlabel('pca1')\n",
    "ax.set_ylabel('pca2')\n",
    "ax.set_zlabel('pca3')\n",
    "ax.view_init(40,-15)\n",
    "plt.show()"
   ]
  },
  {
   "cell_type": "code",
   "execution_count": null,
   "id": "permanent-intersection",
   "metadata": {},
   "outputs": [],
   "source": [
    "svm = sklearn.svm.LinearSVC()\n",
    "y_group = y_group.astype(int)\n",
    "svm.fit(Xpca[:,0:3],y_group)\n",
    "svm.score(Xpca[:,0:3],y_group)"
   ]
  },
  {
   "cell_type": "code",
   "execution_count": null,
   "id": "freelance-graphics",
   "metadata": {},
   "outputs": [],
   "source": [
    "from sklearn.ensemble import RandomForestClassifier\n",
    "rf = RandomForestClassifier(n_estimators=100,max_depth=2)\n",
    "rf.fit(Xpca[:,0:3],y_group)\n",
    "rf.score(Xpca[:,0:3],y_group)"
   ]
  },
  {
   "cell_type": "code",
   "execution_count": null,
   "id": "focal-leone",
   "metadata": {},
   "outputs": [],
   "source": [
    "from sklearn.neural_network import MLPClassifier\n",
    "mlp = MLPClassifier(hidden_layer_sizes=(8,2))\n",
    "mlp.fit(Xpca[:,0:3],y_group)\n",
    "mlp.score(Xpca[:,0:3],y_group)"
   ]
  },
  {
   "cell_type": "code",
   "execution_count": null,
   "id": "silver-saint",
   "metadata": {},
   "outputs": [],
   "source": []
  },
  {
   "cell_type": "code",
   "execution_count": null,
   "id": "stainless-crowd",
   "metadata": {},
   "outputs": [],
   "source": []
  },
  {
   "cell_type": "code",
   "execution_count": null,
   "id": "going-cricket",
   "metadata": {},
   "outputs": [],
   "source": [
    "test_21 = test_df[test_df['SEED'] < 17.0]\n",
    "sweet_16 = ['Gonzaga', 'Creighton', 'USC', 'Oregon', 'Michigan', 'Florida St.','UCLA','Alabama','Baylor','Villanova','Arkansas','Oral Roberts', 'Loyola Chicago', 'Oregon St.', 'Syracuse','Houston']\n",
    "index_list = []\n",
    "for t in sweet_16:\n",
    "    index_list.append(test_21.loc[test_21['TEAM'] == t].index[0])\n",
    "sweet_g21 = np.zeros(test_21.shape[0])\n",
    "sweet_g21[index_list] = 1\n",
    "X21 = test_21[x_cats]\n",
    "X21=X21.set_index('TEAM')\n",
    "X21t = scaler.fit_transform(X21)\n",
    "X21t"
   ]
  },
  {
   "cell_type": "code",
   "execution_count": null,
   "id": "fatal-support",
   "metadata": {},
   "outputs": [],
   "source": [
    "X21pca = pca.transform(X21t)\n",
    "rf_preds = rf.predict(X21pca[:,0:3])\n",
    "svm_preds = svm.predict(X21pca[:,0:3])\n",
    "mlp_preds = mlp.predict(X21pca[:,0:3])"
   ]
  },
  {
   "cell_type": "code",
   "execution_count": null,
   "id": "structured-bruce",
   "metadata": {},
   "outputs": [],
   "source": [
    "svm.score(X21pca[:,0:3],sweet_g21)"
   ]
  },
  {
   "cell_type": "code",
   "execution_count": null,
   "id": "careful-variety",
   "metadata": {},
   "outputs": [],
   "source": [
    "rf.score(X21pca[:,0:3],sweet_g21)"
   ]
  },
  {
   "cell_type": "code",
   "execution_count": null,
   "id": "imposed-charleston",
   "metadata": {},
   "outputs": [],
   "source": [
    "mlp.score(X21pca[:,0:3],sweet_g21)"
   ]
  },
  {
   "cell_type": "code",
   "execution_count": null,
   "id": "closed-liquid",
   "metadata": {},
   "outputs": [],
   "source": [
    "#checking first pca components for splittign ability of sweet 16 and else\n",
    "fig=plt.figure(figsize=(12,12))\n",
    "ax = fig.add_subplot(projection='3d')\n",
    "#ax.scatter(Xpca[:,0],Xpca[:,1],Xpca[:,2],c=y_group)\n",
    "pltg = 10*sweet_g21 + 13\n",
    "\n",
    "ax.scatter(X21pca[:,0],X21pca[:,1],X21pca[:,2],c=pltg,cmap='winter')\n",
    "\n",
    "\n",
    "ax.set_xlabel('pca1')\n",
    "ax.set_ylabel('pca2')\n",
    "ax.set_zlabel('pca3')\n",
    "ax.view_init(45,-45)\n",
    "plt.show()"
   ]
  },
  {
   "cell_type": "code",
   "execution_count": null,
   "id": "periodic-replica",
   "metadata": {},
   "outputs": [],
   "source": [
    "print('SVM 2021 predictions: W/class balance ')\n",
    "cf = classification_report(sweet_g21,svm_preds)\n",
    "print(cf)\n",
    "print('RF 2021 predictions: W/class balance ')\n",
    "cf = classification_report(sweet_g21,rf_preds)\n",
    "print(cf)\n",
    "print('MLP 2021 predictions: W/class balance ')\n",
    "cf = classification_report(sweet_g21,mlp_preds)\n",
    "print(cf)\n"
   ]
  },
  {
   "cell_type": "code",
   "execution_count": null,
   "id": "particular-stretch",
   "metadata": {
    "scrolled": true
   },
   "outputs": [],
   "source": [
    "print('RF 2021 predictions: W/class balance ')\n",
    "cf = classification_report(sweet_g21,rf_preds)\n",
    "print(cf)"
   ]
  },
  {
   "cell_type": "code",
   "execution_count": null,
   "id": "established-recommendation",
   "metadata": {},
   "outputs": [],
   "source": [
    "print('MLP 2021 predictions: W/class balance ')\n",
    "cf = classification_report(sweet_g21,mlp_preds)\n",
    "print(cf)"
   ]
  },
  {
   "cell_type": "code",
   "execution_count": null,
   "id": "fabulous-external",
   "metadata": {},
   "outputs": [],
   "source": [
    "test_21.iloc[np.where(sweet_g21 == 1)]"
   ]
  },
  {
   "cell_type": "code",
   "execution_count": null,
   "id": "developmental-nothing",
   "metadata": {},
   "outputs": [],
   "source": [
    "test_21.iloc[np.where(svm_preds == 1)]"
   ]
  },
  {
   "cell_type": "code",
   "execution_count": null,
   "id": "broad-conversion",
   "metadata": {},
   "outputs": [],
   "source": [
    "test_21.iloc[np.where(rf_preds == 1)]"
   ]
  },
  {
   "cell_type": "code",
   "execution_count": null,
   "id": "parliamentary-exhibit",
   "metadata": {},
   "outputs": [],
   "source": [
    "test_21.iloc[np.where(mlp_preds == 1)]"
   ]
  },
  {
   "cell_type": "code",
   "execution_count": null,
   "id": "proprietary-boutique",
   "metadata": {},
   "outputs": [],
   "source": []
  }
 ],
 "metadata": {
  "kernelspec": {
   "display_name": "Python 3",
   "language": "python",
   "name": "python3"
  },
  "language_info": {
   "codemirror_mode": {
    "name": "ipython",
    "version": 3
   },
   "file_extension": ".py",
   "mimetype": "text/x-python",
   "name": "python",
   "nbconvert_exporter": "python",
   "pygments_lexer": "ipython3",
   "version": "3.9.2"
  }
 },
 "nbformat": 4,
 "nbformat_minor": 5
}
